{
 "cells": [
  {
   "cell_type": "code",
   "execution_count": 1,
   "id": "c4b38f8e",
   "metadata": {},
   "outputs": [],
   "source": [
    "import numpy as np\n",
    "import soundfile\n",
    "import pathlib\n",
    "\n",
    "emplacementFichier=\"Message.csv\"\n",
    "Fe = 40000\n",
    "baud = 300\n",
    "fp1 = 17000\n",
    "fp2 = 19000\n",
    "\n",
    "# Conversion Decimal-Binaire\n",
    "def DecimalVersBinaire(n):\n",
    "    r=''\n",
    "    while n>0:\n",
    "        r+=(str(n%2))\n",
    "        n=n//2\n",
    "    while len(r)<8:\n",
    "        r+='0'\n",
    "    return r[::-1]"
   ]
  },
  {
   "cell_type": "code",
   "execution_count": 2,
   "id": "0ed2baa3",
   "metadata": {},
   "outputs": [],
   "source": [
    "# Encodage Manchester\n",
    "def EncodageManchester(r):\n",
    "    messageCode=[]\n",
    "    for nb in r:\n",
    "        if nb==1:\n",
    "            messageCode.append(0)\n",
    "            messageCode.append(1)\n",
    "        else:\n",
    "            messageCode.append(1)\n",
    "            messageCode.append(0)\n",
    "    return messageCode"
   ]
  },
  {
   "cell_type": "code",
   "execution_count": 3,
   "id": "e8276dd7",
   "metadata": {},
   "outputs": [],
   "source": [
    "# Modulation ASK\n",
    "def ModulationASK(signal):\n",
    "    Ns =int(Fe/baud)\n",
    "    N =Ns*len(signal)\n",
    "\n",
    "    M_duplique=np.repeat(signal,Ns)\n",
    "    t=np.linspace(0,N/Fe,N)\n",
    "\n",
    "    Porteuse =np.sin(2*np.pi*fp1*t)\n",
    "\n",
    "    ASK = Porteuse*M_duplique\n",
    "    return ASK,Porteuse,N,Ns"
   ]
  },
  {
   "cell_type": "code",
   "execution_count": 4,
   "id": "a8c92505",
   "metadata": {},
   "outputs": [],
   "source": [
    "\n",
    "# Modulation FSK\n",
    "def ModulationFSK(signal):\n",
    "    Ns =int(Fe/baud)\n",
    "    N =Ns*len(signal)\n",
    "\n",
    "    M_duplique=np.repeat(signal,Ns)\n",
    "    t=np.linspace(0,N/Fe,N)\n",
    "\n",
    "    P1 = np.sin(2*np.pi*fp1*t)\n",
    "    P2 = np.sin(2*np.pi*fp2*t)\n",
    "\n",
    "    FSK = [] \n",
    "\n",
    "    for i in range (0,len(t)):\n",
    "        \n",
    "        if M_duplique[i] > 0:\n",
    "            FSK.append(P1[i])\n",
    "                \n",
    "        if M_duplique[i] <= 0:\n",
    "            \n",
    "            FSK.append(P2[i])\n",
    "    return FSK,P1,P2,N,Ns"
   ]
  },
  {
   "cell_type": "code",
   "execution_count": 5,
   "id": "51971053",
   "metadata": {},
   "outputs": [],
   "source": [
    "# Démodulation ASK\n",
    "def DemodulationASK(signal,Porteuse,Ns):\n",
    "    Produit=signal*Porteuse\n",
    "    Res=[]                    \n",
    "    for i in range(0,N,Ns):\n",
    "        if np.trapz(Produit[i:i+Ns])>0:\n",
    "            Res.append(1)\n",
    "        else:\n",
    "            Res.append(0)\n",
    "    return Res"
   ]
  },
  {
   "cell_type": "code",
   "execution_count": 6,
   "id": "5b84245b",
   "metadata": {},
   "outputs": [],
   "source": [
    "# Démodulation FSK\n",
    "def DemodulationFSK(signal,P1,P2,Ns):\n",
    "    P1DM=signal*P1\n",
    "    P2DM=signal*P2\n",
    "    Res1=[]\n",
    "    Res2=[]\n",
    "\n",
    "    for i in range(0,N,Ns):\n",
    "        Res1.append(np.trapz(P1DM[i:i+Ns]))\n",
    "        Res2.append(np.trapz(P2DM[i:i+Ns]))\n",
    "        Res=[]\n",
    "        for i in range(len(Res1)):\n",
    "            if abs(Res1[i])-abs(Res2[i])>0:\n",
    "                Res.append(1)\n",
    "            else:\n",
    "                Res.append(0)\n",
    "    return Res"
   ]
  },
  {
   "cell_type": "code",
   "execution_count": 7,
   "id": "c40c78eb",
   "metadata": {},
   "outputs": [],
   "source": [
    "# Décodage Manchester\n",
    "def DecodageManchester(signal):\n",
    "    messageDecode=[]\n",
    "    for i in range(0,len(signal),2):\n",
    "        if signal[i]==1 and signal[i+1]==0:\n",
    "            messageDecode.append(0)\n",
    "        else:\n",
    "            messageDecode.append(1)\n",
    "    return messageDecode"
   ]
  },
  {
   "cell_type": "code",
   "execution_count": 8,
   "id": "51cf1699",
   "metadata": {},
   "outputs": [],
   "source": [
    "#Conversion Binaire-ASCII\n",
    "def BinaireVersASCII(message):\n",
    "    bin_data = \"\"\n",
    "    for elem in message:  \n",
    "        bin_data += str(elem)\n",
    "    data_reçu =' '\n",
    "    def BinaryToDecimal(binary):  \n",
    "        decimal, i, n = 0, 0, 0\n",
    "        while(binary != 0): \n",
    "            dec = binary % 10\n",
    "            decimal = decimal + dec * pow(2, i) \n",
    "            binary = binary//10\n",
    "            i += 1\n",
    "        return (decimal)\n",
    "    for i in range(0, len(bin_data), 8): \n",
    "        temp_data = int(bin_data[i+1:i+8])\n",
    "        decimal_data = BinaryToDecimal(temp_data)\n",
    "        data_reçu = data_reçu + chr(decimal_data)\n",
    "    return data_reçu"
   ]
  },
  {
   "cell_type": "code",
   "execution_count": 9,
   "id": "b16a8787",
   "metadata": {},
   "outputs": [],
   "source": [
    "# Vérification d'erreur\n",
    "def VerificationErreurs(message):\n",
    "    matrice=[]\n",
    "    for mot in message:\n",
    "        for caractere in mot :\n",
    "            matrice.append((DecimalVersBinaire(ord(caractere))))\n",
    "    verificationErreurs=[]\n",
    "    for caractere in matrice:\n",
    "        resultat=0\n",
    "        for bit in caractere:\n",
    "            resultat+=int(bit)\n",
    "        verificationErreurs.append(resultat%2)\n",
    "    for i in range(8):\n",
    "        resultat=0\n",
    "        for caractere in matrice:\n",
    "            resultat+=int(caractere[i])\n",
    "        verificationErreurs.append(resultat%2)\n",
    "    return verificationErreurs"
   ]
  },
  {
   "cell_type": "code",
   "execution_count": 10,
   "id": "fb2f6c43",
   "metadata": {},
   "outputs": [],
   "source": [
    "# Génération de la trame\n",
    "def GenerationTrame(expediteur,destinataire):\n",
    "    extensionFichier=np.array([pathlib.Path(emplacementFichier).suffix])\n",
    "    message=np.genfromtxt(emplacementFichier,dtype=str)\n",
    "    verificationErreurs=VerificationErreurs(message)\n",
    "    trame=np.concatenate([[\"DEBUT|\"],[len(verificationErreurs)-8],[\"|\"],extensionFichier,[\"|\"],[expediteur],[\"|\"],[destinataire],[\"|\"],message,[\"|\"],verificationErreurs,[\"|FIN\"]])\n",
    "    return trame"
   ]
  },
  {
   "cell_type": "code",
   "execution_count": 11,
   "id": "a59050f7",
   "metadata": {},
   "outputs": [],
   "source": [
    "# Récupération des composants\n",
    "def RecuperationComposant(trame,n):\n",
    "    composant=''\n",
    "    nbComposant=1\n",
    "    for caractere in trame:\n",
    "            if caractere=='|':\n",
    "                nbComposant+=1\n",
    "            elif nbComposant==n:\n",
    "                composant+=caractere\n",
    "    return composant\n"
   ]
  },
  {
   "cell_type": "code",
   "execution_count": 12,
   "id": "f8cb3625",
   "metadata": {},
   "outputs": [
    {
     "name": "stdout",
     "output_type": "stream",
     "text": [
      "Entrer le nom de l'expéditeurvf\n",
      "Entrer le nom du destinatairevc\n"
     ]
    }
   ],
   "source": [
    "\n",
    "# Choix de l'expéditeur et du destinataire\n",
    "expediteur=input(\"Entrer le nom de l'expéditeur\")\n",
    "destinataire=input(\"Entrer le nom du destinataire\")\n",
    "\n",
    "trame=GenerationTrame(expediteur,destinataire)"
   ]
  },
  {
   "cell_type": "code",
   "execution_count": 13,
   "id": "8ba75add",
   "metadata": {},
   "outputs": [],
   "source": [
    "# Conversion en binaire de chaque caractère du message\n",
    "trameBinaire=[]\n",
    "for composant in trame:\n",
    "    for caractere in composant:\n",
    "        caractereDecimal=ord(caractere)\n",
    "        caractereBinaire=DecimalVersBinaire(caractereDecimal)\n",
    "        for n in caractereBinaire:\n",
    "            trameBinaire.append(int(n))\n",
    "            "
   ]
  },
  {
   "cell_type": "code",
   "execution_count": 14,
   "id": "d49d9d78",
   "metadata": {},
   "outputs": [
    {
     "name": "stdout",
     "output_type": "stream",
     "text": [
      "Veuillez entrer un choix valide : 1=ASK 2=FSK 1\n"
     ]
    }
   ],
   "source": [
    "# Encodage du message binaire\n",
    "trameCode=EncodageManchester(trameBinaire)\n",
    "\n",
    "while True:\n",
    "    try:\n",
    "        nbModulation = int(input(\"Veuillez entrer un choix valide : 1=ASK 2=FSK \"))\n",
    "        if nbModulation == 1 or nbModulation == 2:\n",
    "            break  # Sort de la boucle si l'entrée est valide\n",
    "        else:\n",
    "            print(\"Choix non valide. Veuillez entrer 1 pour ASK ou 2 pour FSK.\")\n",
    "    except ValueError:\n",
    "        print(\"Veuillez entrer un nombre entier.\")\n",
    "\n",
    "if nbModulation==1:\n",
    "    # Modulation ASK du message code\n",
    "    signal,Porteuse,N,Ns=ModulationASK(trameCode)\n",
    "if nbModulation==2:\n",
    "    # Modulation FSK du message code\n",
    "    signal,P1,P2,N,Ns=ModulationFSK(trameCode)\n",
    "    "
   ]
  },
  {
   "cell_type": "code",
   "execution_count": 15,
   "id": "94860332",
   "metadata": {},
   "outputs": [],
   "source": [
    "# Emission\n",
    "soundfile.write(\"Signal.wav\",signal,Fe)\n",
    "\n",
    "# Réception\n",
    "fichier_audio=soundfile.read(\"Signal.wav\")[0]"
   ]
  },
  {
   "cell_type": "code",
   "execution_count": 16,
   "id": "aa3fb4ee",
   "metadata": {},
   "outputs": [
    {
     "name": "stdout",
     "output_type": "stream",
     "text": [
      " DEBUT|12|.csv|vf|vc|Besoind'aide|00100110101001110110|FIN\n",
      "Le message reçu est : Besoind'aide\n",
      "Le système de vérification d'erreurs a détécté 0 erreur(s).\n",
      " RECEPTION|vc|vf|REUSSIE\n",
      "Le message reçu est : Besoind'aide\n",
      "Le système de vérification d'erreurs a détécté 0 erreur(s).\n",
      "Accusé de réception :  RECEPTION|vc|vf|REUSSIE\n"
     ]
    }
   ],
   "source": [
    "# Démodulation du fichier reçu\n",
    "if nbModulation==1:\n",
    "    trameDemodule=DemodulationASK(fichier_audio,Porteuse,Ns)\n",
    "if nbModulation==2:\n",
    "    trameDemodule=DemodulationFSK(fichier_audio,P1,P2,Ns)\n",
    "    \n",
    "# Decodage du signal démodulé\n",
    "trameDecode=DecodageManchester(trameDemodule)\n",
    "\n",
    "# Conversion ASCII du message décodé\n",
    "trameASCII=BinaireVersASCII(trameDecode)\n",
    "\n",
    "# Affichage du message ASCII\n",
    "print(trameASCII) \n",
    "print(\"Le message reçu est :\", RecuperationComposant(trameASCII,6))\n",
    "\n",
    "# Vérification d'erreurs\n",
    "verificationErreurs=VerificationErreurs(RecuperationComposant(trameASCII,6))\n",
    "nombreErreurs=0\n",
    "for i in range(len(verificationErreurs)):\n",
    "    if verificationErreurs[i]!=int(RecuperationComposant(trameASCII,7)[i]):\n",
    "        nombreErreurs+=1\n",
    "print(\"Le système de vérification d'erreurs a détécté\",nombreErreurs,\"erreur(s).\")\n",
    "\n",
    "# Envoi d'un accusé de réception\n",
    "AR=[\"RECEPTION|\",destinataire,\"|\",expediteur,\"|REUSSIE\"]\n",
    "ARBinaire=[]\n",
    "for composant in AR:\n",
    "    for caractere in composant:\n",
    "        caractereDecimal=ord(caractere)\n",
    "        caractereBinaire=DecimalVersBinaire(caractereDecimal)\n",
    "        for n in caractereBinaire:\n",
    "            ARBinaire.append(int(n))\n",
    "ARCode=EncodageManchester(ARBinaire)\n",
    "if nbModulation==1:\n",
    "    signal,Porteuse,N,Ns=ModulationASK(ARCode)\n",
    "if nbModulation==2:\n",
    "    signal,P1,P2,N,Ns=ModulationFSK(ARCode)\n",
    "soundfile.write(\"AR.wav\",signal,Fe)\n",
    "AR_audio=soundfile.read(\"AR.wav\")[0]\n",
    "if nbModulation==1:\n",
    "    ARDemodule=DemodulationASK(AR_audio,Porteuse,Ns)\n",
    "if nbModulation==2:\n",
    "    ARDemodule=DemodulationFSK(AR_audio,P1,P2,Ns)\n",
    "ARDecode=DecodageManchester(ARDemodule)\n",
    "ARASCII=BinaireVersASCII(ARDecode)\n",
    "print(ARASCII)\n",
    "\n",
    "print(\"Le message reçu est :\", RecuperationComposant(trameASCII,6))\n",
    "print(\"Le système de vérification d'erreurs a détécté\",nombreErreurs,\"erreur(s).\")\n",
    "print(\"Accusé de réception :\", ARASCII)"
   ]
  },
  {
   "cell_type": "code",
   "execution_count": null,
   "id": "307cc4fb",
   "metadata": {},
   "outputs": [],
   "source": []
  }
 ],
 "metadata": {
  "kernelspec": {
   "display_name": "Python 3 (ipykernel)",
   "language": "python",
   "name": "python3"
  },
  "language_info": {
   "codemirror_mode": {
    "name": "ipython",
    "version": 3
   },
   "file_extension": ".py",
   "mimetype": "text/x-python",
   "name": "python",
   "nbconvert_exporter": "python",
   "pygments_lexer": "ipython3",
   "version": "3.11.4"
  }
 },
 "nbformat": 4,
 "nbformat_minor": 5
}
